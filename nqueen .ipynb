{
 "cells": [
  {
   "cell_type": "code",
   "execution_count": 3,
   "id": "a0dcc385-d4b9-46b3-a359-3f69c7cfe4ab",
   "metadata": {},
   "outputs": [],
   "source": [
    "import random\n",
    "import matplotlib.pyplot as plt\n"
   ]
  },
  {
   "cell_type": "code",
   "execution_count": 5,
   "id": "9504a2ac-7bc6-44c2-b9a3-b44a7a243af3",
   "metadata": {},
   "outputs": [],
   "source": [
    "def print_solution(board):\n",
    "    for row in board:\n",
    "        print(\" \".join(str(x) for x in row))\n",
    "    print()"
   ]
  },
  {
   "cell_type": "code",
   "execution_count": 7,
   "id": "49fe1e75-7c21-4ed2-bd8d-830017bd7b7f",
   "metadata": {},
   "outputs": [],
   "source": [
    "def print_solution(board):\n",
    "    for row in board:\n",
    "        print(\" \".join(str(x) for x in row))\n",
    "    print()"
   ]
  },
  {
   "cell_type": "code",
   "execution_count": 9,
   "id": "75d6a677-9ee2-4e1f-87ad-44fbf7f34e42",
   "metadata": {},
   "outputs": [],
   "source": [
    "def plot_solution(board):\n",
    "    n = len(board)\n",
    "    fig, ax = plt.subplots()\n",
    "    ax.set_xticks(range(n))\n",
    "    ax.set_yticks(range(n))\n",
    "    ax.set_xticklabels([])\n",
    "    ax.set_yticklabels([])\n",
    "    ax.grid(True)\n",
    "    for i in range(n):\n",
    "        for j in range(n):\n",
    "            if board[i][j] == 1:\n",
    "                ax.add_patch(plt.Circle((j, n - i - 1), 0.4, color='black'))\n",
    "    plt.show()\n"
   ]
  },
  {
   "cell_type": "code",
   "execution_count": 11,
   "id": "933529fe-333b-4868-8ab0-e7f908513f5a",
   "metadata": {},
   "outputs": [],
   "source": [
    "def plot_fitness_over_generations(fitness_history):\n",
    "    plt.figure()\n",
    "    plt.plot(range(len(fitness_history)), fitness_history, marker='o')\n",
    "    plt.xlabel('Generation')\n",
    "    plt.ylabel('Best Fitness')\n",
    "    plt.title('Mutation Impact Over Generations')\n",
    "    plt.grid(True)\n",
    "    plt.show()"
   ]
  },
  {
   "cell_type": "code",
   "execution_count": 13,
   "id": "3198fde9-650b-445b-9e2c-8372efa94a5a",
   "metadata": {},
   "outputs": [],
   "source": [
    "def is_safe(board, row, col, n):\n",
    "    # Check if a queen can be placed at board[row][col]\n",
    "    for i in range(col):\n",
    "        if board[row][i] == 1:\n",
    "            return False\n",
    "\n",
    "    for i, j in zip(range(row, -1, -1), range(col, -1, -1)):\n",
    "        if board[i][j] == 1:\n",
    "            return False\n",
    "\n",
    "    for i, j in zip(range(row, n), range(col, -1, -1)):\n",
    "        if board[i][j] == 1:\n",
    "            return False\n",
    "\n",
    "    return True"
   ]
  },
  {
   "cell_type": "code",
   "execution_count": 15,
   "id": "6638ce01-72fb-4b13-b064-fb7ae1dcf0e2",
   "metadata": {},
   "outputs": [],
   "source": [
    "\n",
    "def solve_n_queens(board, col, n):\n",
    "    if col >= n:\n",
    "        print_solution(board)\n",
    "        plot_solution(board)\n",
    "        return True\n",
    "\n",
    "    res = False\n",
    "    for i in range(n):\n",
    "        if is_safe(board, i, col, n):\n",
    "            board[i][col] = 1\n",
    "            res = solve_n_queens(board, col + 1, n) or res\n",
    "            board[i][col] = 0\n",
    "\n",
    "    return res"
   ]
  },
  {
   "cell_type": "code",
   "execution_count": 17,
   "id": "006258e9-63da-497b-9dcb-4f8ea213cc15",
   "metadata": {},
   "outputs": [],
   "source": [
    "def n_queens(n):\n",
    "    board = [[0] * n for _ in range(n)]\n",
    "    if not solve_n_queens(board, 0, n):\n",
    "        print(\"No solution exists\")"
   ]
  },
  {
   "cell_type": "code",
   "execution_count": 23,
   "id": "5780f709-5c68-498b-a952-6dfd79c3f05d",
   "metadata": {},
   "outputs": [],
   "source": [
    "def genetic_algorithm(n, s, r, p, m):\n",
    "    def fitness(board):\n",
    "        conflicts = 0\n",
    "        for i in range(n):\n",
    "            for j in range(i + 1, n):\n",
    "                if board[i] == board[j] or abs(board[i] - board[j]) == abs(i - j):\n",
    "                    conflicts += 1\n",
    "        return -conflicts\n",
    "\n",
    "    def mutate(board):\n",
    "        if random.random() < p:\n",
    "            idx = random.randint(0, n - 1)\n",
    "            board[idx] = random.randint(0, n - 1)\n",
    "\n",
    "    def crossover(parent1, parent2):\n",
    "        point = random.randint(0, n - 1)\n",
    "        return parent1[:point] + parent2[point:]\n",
    "\n",
    "    population = [[random.randint(0, n - 1) for _ in range(n)] for _ in range(s)]\n",
    "    fitness_history = []\n",
    "    for generation in range(m):\n",
    "        population.sort(key=fitness, reverse=True)\n",
    "        best_fitness = fitness(population[0])\n",
    "        fitness_history.append(best_fitness)\n",
    "        next_generation = population[:r]\n",
    "        while len(next_generation) < s:\n",
    "            if r > 1:\n",
    "                parent1, parent2 = random.sample(population[:r], 2)\n",
    "                child = crossover(parent1, parent2)\n",
    "            else:\n",
    "                # If breeding pair size is 1, just mutate the existing parent\n",
    "                child = population[0][:]\n",
    "                mutate(child)\n",
    "            mutate(child)\n",
    "            next_generation.append(child)\n",
    "        population = next_generation\n",
    "\n",
    "    best_solution = max(population, key=fitness)\n",
    "    print(\"Best solution found:\")\n",
    "    board = [[0] * n for _ in range(n)]\n",
    "    for i in range(n):\n",
    "        board[i][best_solution[i]] = 1\n",
    "    print_solution(board)\n",
    "    plot_solution(board)\n",
    "    plot_fitness_over_generations(fitness_history)\n",
    "\n",
    "    # Adding remarks based on the fitness history\n",
    "    final_fitness = fitness_history[-1]\n",
    "    if final_fitness == 0:\n",
    "        print(\"Remarks: Optimal solution found with no conflicts.\")\n",
    "    elif final_fitness < 0 and final_fitness > -10:\n",
    "        print(\"Remarks: Near-optimal solution with few conflicts. Consider increasing generations or population size.\")\n",
    "    else:\n",
    "        print(\"Remarks: Suboptimal solution with many conflicts. Consider adjusting parameters such as mutation probability or breeding pairs.\")\n"
   ]
  },
  {
   "cell_type": "code",
   "execution_count": 25,
   "id": "5901e102-9dba-40fa-ad70-dccc981c5600",
   "metadata": {},
   "outputs": [
    {
     "name": "stdin",
     "output_type": "stream",
     "text": [
      "Number of queens (N):  10\n",
      "Population size (S):  10\n",
      "Number of breeding pairs (r):  2\n",
      "Mutation probability (p):  0.1\n",
      "Number of generations (m):  10\n"
     ]
    },
    {
     "name": "stdout",
     "output_type": "stream",
     "text": [
      "Best solution found:\n",
      "0 0 0 0 0 0 0 1 0 0\n",
      "0 1 0 0 0 0 0 0 0 0\n",
      "0 0 0 1 0 0 0 0 0 0\n",
      "0 0 0 0 0 0 0 1 0 0\n",
      "0 1 0 0 0 0 0 0 0 0\n",
      "0 0 0 0 0 0 0 0 1 0\n",
      "0 0 0 0 0 0 0 0 0 1\n",
      "0 0 0 0 0 1 0 0 0 0\n",
      "1 0 0 0 0 0 0 0 0 0\n",
      "0 0 0 0 0 0 0 0 1 0\n",
      "\n"
     ]
    },
    {
     "data": {
      "image/png": "[encoded data removed]",
      "text/plain": [
       "<Figure size 640x480 with 1 Axes>"
      ]
     },
     "metadata": {},
     "output_type": "display_data"
    },
    {
     "data": {
      "image/png": "[encoded data removed]",
      "text/plain": [
       "<Figure size 640x480 with 1 Axes>"
      ]
     },
     "metadata": {},
     "output_type": "display_data"
    },
    {
     "name": "stdout",
     "output_type": "stream",
     "text": [
      "Remarks: Near-optimal solution with few conflicts. Consider increasing generations or population size.\n"
     ]
    }
   ],
   "source": [
    "if __name__ == \"__main__\":\n",
    "    n = int(input(\"Number of queens (N): \"))\n",
    "    s = int(input(\"Population size (S): \"))\n",
    "    r = int(input(\"Number of breeding pairs (r): \"))\n",
    "    p = float(input(\"Mutation probability (p): \"))\n",
    "    m = int(input(\"Number of generations (m): \"))\n",
    "    genetic_algorithm(n, s, r, p, m)"
   ]
  },
  {
   "cell_type": "code",
   "execution_count": null,
   "id": "d9328eb6-bff1-4b2b-bbc5-e01e14093ab8",
   "metadata": {},
   "outputs": [],
   "source": []
  }
 ],
 "metadata": {
  "kernelspec": {
   "display_name": "Python 3 (ipykernel)",
   "language": "python",
   "name": "python3"
  },
  "language_info": {
   "codemirror_mode": {
    "name": "ipython",
    "version": 3
   },
   "file_extension": ".py",
   "mimetype": "text/x-python",
   "name": "python",
   "nbconvert_exporter": "python",
   "pygments_lexer": "ipython3",
   "version": "3.11.7"
  }
 },
 "nbformat": 4,
 "nbformat_minor": 5
}
